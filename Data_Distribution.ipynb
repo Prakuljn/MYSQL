{
 "cells": [
  {
   "cell_type": "markdown",
   "id": "d6481741-f92e-427b-940a-52bb14ad0d8c",
   "metadata": {},
   "source": [
    "# Data Distribution:"
   ]
  },
  {
   "cell_type": "code",
   "execution_count": 1,
   "id": "7a4ac4b0-11e1-4f1e-9c08-6009624cdff3",
   "metadata": {},
   "outputs": [],
   "source": [
    "import numpy as np\n",
    "import pandas as pd"
   ]
  },
  {
   "cell_type": "code",
   "execution_count": 2,
   "id": "611b105b-18f8-45d9-944e-b3fbac421908",
   "metadata": {},
   "outputs": [],
   "source": [
    "df = pd.read_csv(\"C:\\\\Pandas\\\\placement.csv\")"
   ]
  },
  {
   "cell_type": "code",
   "execution_count": 3,
   "id": "c763c6ab-1367-4f17-bf36-6dd60dbf46b2",
   "metadata": {},
   "outputs": [
    {
     "data": {
      "text/html": [
       "<div>\n",
       "<style scoped>\n",
       "    .dataframe tbody tr th:only-of-type {\n",
       "        vertical-align: middle;\n",
       "    }\n",
       "\n",
       "    .dataframe tbody tr th {\n",
       "        vertical-align: top;\n",
       "    }\n",
       "\n",
       "    .dataframe thead th {\n",
       "        text-align: right;\n",
       "    }\n",
       "</style>\n",
       "<table border=\"1\" class=\"dataframe\">\n",
       "  <thead>\n",
       "    <tr style=\"text-align: right;\">\n",
       "      <th></th>\n",
       "      <th>cgpa</th>\n",
       "      <th>resume_score</th>\n",
       "      <th>placed</th>\n",
       "    </tr>\n",
       "  </thead>\n",
       "  <tbody>\n",
       "    <tr>\n",
       "      <th>0</th>\n",
       "      <td>8.14</td>\n",
       "      <td>6.52</td>\n",
       "      <td>1</td>\n",
       "    </tr>\n",
       "    <tr>\n",
       "      <th>1</th>\n",
       "      <td>6.17</td>\n",
       "      <td>5.17</td>\n",
       "      <td>0</td>\n",
       "    </tr>\n",
       "    <tr>\n",
       "      <th>2</th>\n",
       "      <td>8.27</td>\n",
       "      <td>8.86</td>\n",
       "      <td>1</td>\n",
       "    </tr>\n",
       "    <tr>\n",
       "      <th>3</th>\n",
       "      <td>6.88</td>\n",
       "      <td>7.27</td>\n",
       "      <td>1</td>\n",
       "    </tr>\n",
       "    <tr>\n",
       "      <th>4</th>\n",
       "      <td>7.52</td>\n",
       "      <td>7.30</td>\n",
       "      <td>1</td>\n",
       "    </tr>\n",
       "  </tbody>\n",
       "</table>\n",
       "</div>"
      ],
      "text/plain": [
       "   cgpa  resume_score  placed\n",
       "0  8.14          6.52       1\n",
       "1  6.17          5.17       0\n",
       "2  8.27          8.86       1\n",
       "3  6.88          7.27       1\n",
       "4  7.52          7.30       1"
      ]
     },
     "execution_count": 3,
     "metadata": {},
     "output_type": "execute_result"
    }
   ],
   "source": [
    "df.head()"
   ]
  },
  {
   "cell_type": "code",
   "execution_count": 4,
   "id": "96385b20-0939-428d-9f07-dd7052e20439",
   "metadata": {},
   "outputs": [
    {
     "data": {
      "text/plain": [
       "(100, 3)"
      ]
     },
     "execution_count": 4,
     "metadata": {},
     "output_type": "execute_result"
    }
   ],
   "source": [
    "df.shape"
   ]
  },
  {
   "cell_type": "code",
   "execution_count": 5,
   "id": "6116a21e-cb0c-4777-819f-8ecc6c162d4b",
   "metadata": {},
   "outputs": [
    {
     "data": {
      "text/plain": [
       "cgpa            0\n",
       "resume_score    0\n",
       "placed          0\n",
       "dtype: int64"
      ]
     },
     "execution_count": 5,
     "metadata": {},
     "output_type": "execute_result"
    }
   ],
   "source": [
    "df.isnull().sum()"
   ]
  },
  {
   "cell_type": "code",
   "execution_count": 6,
   "id": "ca136958-d531-44b6-8627-e6fc337dd20c",
   "metadata": {},
   "outputs": [],
   "source": [
    "x = df.drop(columns = ['placed'])      ## Input data\n",
    "y = df['placed']    ## Target data"
   ]
  },
  {
   "cell_type": "code",
   "execution_count": 17,
   "id": "0d5305ba-3508-4787-88c8-249a93613c2f",
   "metadata": {},
   "outputs": [
    {
     "name": "stdout",
     "output_type": "stream",
     "text": [
      "Collecting scikit-learn\n",
      "  Downloading scikit_learn-1.6.1-cp310-cp310-win_amd64.whl (11.1 MB)\n",
      "     ---------------------------------------- 0.0/11.1 MB ? eta -:--:--\n",
      "     ---------------------------------------- 0.1/11.1 MB 3.6 MB/s eta 0:00:04\n",
      "     - -------------------------------------- 0.3/11.1 MB 4.3 MB/s eta 0:00:03\n",
      "     - -------------------------------------- 0.5/11.1 MB 4.1 MB/s eta 0:00:03\n",
      "     -- ------------------------------------- 0.7/11.1 MB 3.8 MB/s eta 0:00:03\n",
      "     --- ------------------------------------ 1.0/11.1 MB 4.5 MB/s eta 0:00:03\n",
      "     ---- ----------------------------------- 1.3/11.1 MB 4.8 MB/s eta 0:00:03\n",
      "     ----- ---------------------------------- 1.6/11.1 MB 5.2 MB/s eta 0:00:02\n",
      "     ------- -------------------------------- 2.2/11.1 MB 5.8 MB/s eta 0:00:02\n",
      "     --------- ------------------------------ 2.6/11.1 MB 6.0 MB/s eta 0:00:02\n",
      "     ---------- ----------------------------- 3.0/11.1 MB 6.3 MB/s eta 0:00:02\n",
      "     ------------ --------------------------- 3.4/11.1 MB 6.5 MB/s eta 0:00:02\n",
      "     ------------- -------------------------- 3.8/11.1 MB 6.7 MB/s eta 0:00:02\n",
      "     -------------- ------------------------- 4.1/11.1 MB 6.7 MB/s eta 0:00:02\n",
      "     ---------------- ----------------------- 4.6/11.1 MB 6.9 MB/s eta 0:00:01\n",
      "     ----------------- ---------------------- 4.9/11.1 MB 6.8 MB/s eta 0:00:01\n",
      "     ------------------ --------------------- 5.1/11.1 MB 6.7 MB/s eta 0:00:01\n",
      "     ------------------- -------------------- 5.5/11.1 MB 6.8 MB/s eta 0:00:01\n",
      "     --------------------- ------------------ 5.9/11.1 MB 6.9 MB/s eta 0:00:01\n",
      "     ---------------------- ----------------- 6.3/11.1 MB 7.0 MB/s eta 0:00:01\n",
      "     ------------------------ --------------- 6.7/11.1 MB 7.0 MB/s eta 0:00:01\n",
      "     ------------------------- -------------- 7.0/11.1 MB 7.0 MB/s eta 0:00:01\n",
      "     ------------------------- -------------- 7.2/11.1 MB 6.9 MB/s eta 0:00:01\n",
      "     -------------------------- ------------- 7.3/11.1 MB 6.7 MB/s eta 0:00:01\n",
      "     -------------------------- ------------- 7.5/11.1 MB 6.5 MB/s eta 0:00:01\n",
      "     --------------------------- ------------ 7.6/11.1 MB 6.4 MB/s eta 0:00:01\n",
      "     --------------------------- ------------ 7.7/11.1 MB 6.3 MB/s eta 0:00:01\n",
      "     ---------------------------- ----------- 7.9/11.1 MB 6.1 MB/s eta 0:00:01\n",
      "     ---------------------------- ----------- 8.0/11.1 MB 6.0 MB/s eta 0:00:01\n",
      "     ----------------------------- ---------- 8.2/11.1 MB 5.9 MB/s eta 0:00:01\n",
      "     ----------------------------- ---------- 8.3/11.1 MB 5.8 MB/s eta 0:00:01\n",
      "     ------------------------------ --------- 8.4/11.1 MB 5.7 MB/s eta 0:00:01\n",
      "     ------------------------------ --------- 8.6/11.1 MB 5.6 MB/s eta 0:00:01\n",
      "     ------------------------------- -------- 8.8/11.1 MB 5.6 MB/s eta 0:00:01\n",
      "     -------------------------------- ------- 8.9/11.1 MB 5.5 MB/s eta 0:00:01\n",
      "     -------------------------------- ------- 9.1/11.1 MB 5.4 MB/s eta 0:00:01\n",
      "     --------------------------------- ------ 9.2/11.1 MB 5.3 MB/s eta 0:00:01\n",
      "     --------------------------------- ------ 9.3/11.1 MB 5.3 MB/s eta 0:00:01\n",
      "     ---------------------------------- ----- 9.5/11.1 MB 5.2 MB/s eta 0:00:01\n",
      "     ---------------------------------- ----- 9.6/11.1 MB 5.2 MB/s eta 0:00:01\n",
      "     ----------------------------------- ---- 9.8/11.1 MB 5.1 MB/s eta 0:00:01\n",
      "     ----------------------------------- ---- 10.0/11.1 MB 5.1 MB/s eta 0:00:01\n",
      "     ------------------------------------ --- 10.1/11.1 MB 5.0 MB/s eta 0:00:01\n",
      "     ------------------------------------- -- 10.3/11.1 MB 5.0 MB/s eta 0:00:01\n",
      "     ------------------------------------- -- 10.4/11.1 MB 4.9 MB/s eta 0:00:01\n",
      "     ------------------------------------- -- 10.6/11.1 MB 4.9 MB/s eta 0:00:01\n",
      "     -------------------------------------- - 10.6/11.1 MB 4.8 MB/s eta 0:00:01\n",
      "     -------------------------------------- - 10.8/11.1 MB 4.8 MB/s eta 0:00:01\n",
      "     ---------------------------------------  10.9/11.1 MB 4.8 MB/s eta 0:00:01\n",
      "     ---------------------------------------  11.1/11.1 MB 4.7 MB/s eta 0:00:01\n",
      "     ---------------------------------------  11.1/11.1 MB 4.7 MB/s eta 0:00:01\n",
      "     ---------------------------------------- 11.1/11.1 MB 4.2 MB/s eta 0:00:00\n",
      "Collecting scipy>=1.6.0\n",
      "  Downloading scipy-1.15.2-cp310-cp310-win_amd64.whl (41.2 MB)\n",
      "     ---------------------------------------- 0.0/41.2 MB ? eta -:--:--\n",
      "     ---------------------------------------- 0.1/41.2 MB 3.6 MB/s eta 0:00:12\n",
      "     ---------------------------------------- 0.3/41.2 MB 3.2 MB/s eta 0:00:14\n",
      "     ---------------------------------------- 0.4/41.2 MB 3.0 MB/s eta 0:00:14\n",
      "      --------------------------------------- 0.5/41.2 MB 3.0 MB/s eta 0:00:14\n",
      "      --------------------------------------- 0.6/41.2 MB 2.8 MB/s eta 0:00:15\n",
      "      --------------------------------------- 0.7/41.2 MB 2.8 MB/s eta 0:00:15\n",
      "      --------------------------------------- 0.9/41.2 MB 2.8 MB/s eta 0:00:15\n",
      "      --------------------------------------- 1.0/41.2 MB 2.7 MB/s eta 0:00:15\n",
      "     - -------------------------------------- 1.1/41.2 MB 2.7 MB/s eta 0:00:15\n",
      "     - -------------------------------------- 1.2/41.2 MB 2.7 MB/s eta 0:00:15\n",
      "     - -------------------------------------- 1.4/41.2 MB 2.8 MB/s eta 0:00:15\n",
      "     - -------------------------------------- 1.5/41.2 MB 2.8 MB/s eta 0:00:15\n",
      "     - -------------------------------------- 1.7/41.2 MB 2.8 MB/s eta 0:00:15\n",
      "     - -------------------------------------- 1.8/41.2 MB 2.8 MB/s eta 0:00:14\n",
      "     - -------------------------------------- 1.9/41.2 MB 2.8 MB/s eta 0:00:14\n",
      "     -- ------------------------------------- 2.1/41.2 MB 2.8 MB/s eta 0:00:14\n",
      "     -- ------------------------------------- 2.2/41.2 MB 2.8 MB/s eta 0:00:14\n",
      "     -- ------------------------------------- 2.4/41.2 MB 2.8 MB/s eta 0:00:14\n",
      "     -- ------------------------------------- 2.5/41.2 MB 2.8 MB/s eta 0:00:14\n",
      "     -- ------------------------------------- 2.6/41.2 MB 2.8 MB/s eta 0:00:14\n",
      "     -- ------------------------------------- 2.8/41.2 MB 2.9 MB/s eta 0:00:14\n",
      "     -- ------------------------------------- 2.9/41.2 MB 2.8 MB/s eta 0:00:14\n",
      "     -- ------------------------------------- 3.0/41.2 MB 2.8 MB/s eta 0:00:14\n",
      "     --- ------------------------------------ 3.2/41.2 MB 2.8 MB/s eta 0:00:14\n",
      "     --- ------------------------------------ 3.3/41.2 MB 2.8 MB/s eta 0:00:14\n",
      "     --- ------------------------------------ 3.4/41.2 MB 2.8 MB/s eta 0:00:14\n",
      "     --- ------------------------------------ 3.4/41.2 MB 2.8 MB/s eta 0:00:14\n",
      "     --- ------------------------------------ 3.4/41.2 MB 2.6 MB/s eta 0:00:15\n",
      "     --- ------------------------------------ 3.5/41.2 MB 2.6 MB/s eta 0:00:15\n",
      "     --- ------------------------------------ 3.9/41.2 MB 2.8 MB/s eta 0:00:14\n",
      "     --- ------------------------------------ 4.1/41.2 MB 2.8 MB/s eta 0:00:14\n",
      "     ---- ----------------------------------- 4.2/41.2 MB 2.8 MB/s eta 0:00:14\n",
      "     ---- ----------------------------------- 4.2/41.2 MB 2.8 MB/s eta 0:00:14\n",
      "     ---- ----------------------------------- 4.2/41.2 MB 2.8 MB/s eta 0:00:14\n",
      "     ---- ----------------------------------- 4.4/41.2 MB 2.7 MB/s eta 0:00:14\n",
      "     ---- ----------------------------------- 4.6/41.2 MB 2.8 MB/s eta 0:00:14\n",
      "     ---- ----------------------------------- 4.8/41.2 MB 2.8 MB/s eta 0:00:14\n",
      "     ---- ----------------------------------- 5.0/41.2 MB 2.8 MB/s eta 0:00:13\n",
      "     ---- ----------------------------------- 5.1/41.2 MB 2.8 MB/s eta 0:00:13\n",
      "     ----- ---------------------------------- 5.2/41.2 MB 2.8 MB/s eta 0:00:13\n",
      "     ----- ---------------------------------- 5.4/41.2 MB 2.8 MB/s eta 0:00:13\n",
      "     ----- ---------------------------------- 5.8/41.2 MB 3.0 MB/s eta 0:00:12\n",
      "     ----- ---------------------------------- 6.1/41.2 MB 3.1 MB/s eta 0:00:12\n",
      "     ------ --------------------------------- 6.5/41.2 MB 3.2 MB/s eta 0:00:11\n",
      "     ------ --------------------------------- 7.0/41.2 MB 3.3 MB/s eta 0:00:11\n",
      "     ------- -------------------------------- 7.3/41.2 MB 3.4 MB/s eta 0:00:11\n",
      "     ------- -------------------------------- 7.5/41.2 MB 3.4 MB/s eta 0:00:10\n",
      "     ------- -------------------------------- 7.9/41.2 MB 3.5 MB/s eta 0:00:10\n",
      "     -------- ------------------------------- 8.6/41.2 MB 3.7 MB/s eta 0:00:09\n",
      "     -------- ------------------------------- 9.0/41.2 MB 3.8 MB/s eta 0:00:09\n",
      "     --------- ------------------------------ 9.4/41.2 MB 3.9 MB/s eta 0:00:09\n",
      "     --------- ------------------------------ 9.8/41.2 MB 4.0 MB/s eta 0:00:08\n",
      "     --------- ------------------------------ 10.1/41.2 MB 4.0 MB/s eta 0:00:08\n",
      "     ---------- ----------------------------- 10.4/41.2 MB 4.1 MB/s eta 0:00:08\n",
      "     ---------- ----------------------------- 10.7/41.2 MB 4.2 MB/s eta 0:00:08\n",
      "     ---------- ----------------------------- 11.0/41.2 MB 4.3 MB/s eta 0:00:08\n",
      "     ----------- ---------------------------- 11.4/41.2 MB 4.5 MB/s eta 0:00:07\n",
      "     ----------- ---------------------------- 11.7/41.2 MB 4.6 MB/s eta 0:00:07\n",
      "     ----------- ---------------------------- 12.1/41.2 MB 4.8 MB/s eta 0:00:07\n",
      "     ------------ --------------------------- 12.4/41.2 MB 4.9 MB/s eta 0:00:06\n",
      "     ------------ --------------------------- 12.7/41.2 MB 5.0 MB/s eta 0:00:06\n",
      "     ------------ --------------------------- 12.8/41.2 MB 5.0 MB/s eta 0:00:06\n",
      "     ------------ --------------------------- 13.0/41.2 MB 5.0 MB/s eta 0:00:06\n",
      "     ------------ --------------------------- 13.3/41.2 MB 5.2 MB/s eta 0:00:06\n",
      "     ------------- -------------------------- 13.7/41.2 MB 5.7 MB/s eta 0:00:05\n",
      "     ------------- -------------------------- 14.1/41.2 MB 5.7 MB/s eta 0:00:05\n",
      "     -------------- ------------------------- 14.5/41.2 MB 6.3 MB/s eta 0:00:05\n",
      "     -------------- ------------------------- 14.8/41.2 MB 6.5 MB/s eta 0:00:05\n",
      "     -------------- ------------------------- 15.2/41.2 MB 6.7 MB/s eta 0:00:04\n",
      "     --------------- ------------------------ 15.6/41.2 MB 6.9 MB/s eta 0:00:04\n",
      "     --------------- ------------------------ 16.1/41.2 MB 7.0 MB/s eta 0:00:04\n",
      "     --------------- ------------------------ 16.4/41.2 MB 7.0 MB/s eta 0:00:04\n",
      "     ---------------- ----------------------- 16.6/41.2 MB 6.8 MB/s eta 0:00:04\n",
      "     ---------------- ----------------------- 16.8/41.2 MB 6.8 MB/s eta 0:00:04\n",
      "     ---------------- ----------------------- 16.9/41.2 MB 6.6 MB/s eta 0:00:04\n",
      "     ---------------- ----------------------- 17.1/41.2 MB 6.5 MB/s eta 0:00:04\n",
      "     ----------------- ---------------------- 17.5/41.2 MB 6.7 MB/s eta 0:00:04\n",
      "     ----------------- ---------------------- 18.0/41.2 MB 6.7 MB/s eta 0:00:04\n",
      "     ----------------- ---------------------- 18.5/41.2 MB 6.6 MB/s eta 0:00:04\n",
      "     ------------------ --------------------- 19.0/41.2 MB 6.6 MB/s eta 0:00:04\n",
      "     ------------------ --------------------- 19.4/41.2 MB 6.6 MB/s eta 0:00:04\n",
      "     ------------------- -------------------- 19.8/41.2 MB 6.6 MB/s eta 0:00:04\n",
      "     ------------------- -------------------- 20.2/41.2 MB 6.6 MB/s eta 0:00:04\n",
      "     ------------------- -------------------- 20.6/41.2 MB 6.7 MB/s eta 0:00:04\n",
      "     -------------------- ------------------- 20.9/41.2 MB 6.7 MB/s eta 0:00:04\n",
      "     -------------------- ------------------- 21.1/41.2 MB 6.6 MB/s eta 0:00:04\n",
      "     -------------------- ------------------- 21.4/41.2 MB 6.7 MB/s eta 0:00:03\n",
      "     -------------------- ------------------- 21.6/41.2 MB 6.6 MB/s eta 0:00:03\n",
      "     --------------------- ------------------ 21.9/41.2 MB 6.6 MB/s eta 0:00:03\n",
      "     --------------------- ------------------ 22.1/41.2 MB 6.5 MB/s eta 0:00:03\n",
      "     --------------------- ------------------ 22.5/41.2 MB 6.5 MB/s eta 0:00:03\n",
      "     ---------------------- ----------------- 22.8/41.2 MB 6.6 MB/s eta 0:00:03\n",
      "     ---------------------- ----------------- 23.2/41.2 MB 7.0 MB/s eta 0:00:03\n",
      "     ---------------------- ----------------- 23.5/41.2 MB 7.0 MB/s eta 0:00:03\n",
      "     ----------------------- ---------------- 23.7/41.2 MB 7.0 MB/s eta 0:00:03\n",
      "     ----------------------- ---------------- 24.0/41.2 MB 6.9 MB/s eta 0:00:03\n",
      "     ----------------------- ---------------- 24.4/41.2 MB 6.9 MB/s eta 0:00:03\n",
      "     ----------------------- ---------------- 24.7/41.2 MB 6.9 MB/s eta 0:00:03\n",
      "     ------------------------ --------------- 25.1/41.2 MB 6.9 MB/s eta 0:00:03\n",
      "     ------------------------ --------------- 25.5/41.2 MB 6.9 MB/s eta 0:00:03\n",
      "     ------------------------- -------------- 25.9/41.2 MB 7.0 MB/s eta 0:00:03\n",
      "     ------------------------- -------------- 26.2/41.2 MB 6.8 MB/s eta 0:00:03\n",
      "     ------------------------- -------------- 26.6/41.2 MB 7.0 MB/s eta 0:00:03\n",
      "     -------------------------- ------------- 27.0/41.2 MB 7.2 MB/s eta 0:00:02\n",
      "     -------------------------- ------------- 27.4/41.2 MB 7.4 MB/s eta 0:00:02\n",
      "     -------------------------- ------------- 27.8/41.2 MB 7.4 MB/s eta 0:00:02\n",
      "     --------------------------- ------------ 28.1/41.2 MB 7.4 MB/s eta 0:00:02\n",
      "     --------------------------- ------------ 28.5/41.2 MB 7.3 MB/s eta 0:00:02\n",
      "     --------------------------- ------------ 28.8/41.2 MB 7.3 MB/s eta 0:00:02\n",
      "     ---------------------------- ----------- 29.2/41.2 MB 7.2 MB/s eta 0:00:02\n",
      "     ---------------------------- ----------- 29.5/41.2 MB 7.2 MB/s eta 0:00:02\n",
      "     ---------------------------- ----------- 29.9/41.2 MB 7.2 MB/s eta 0:00:02\n",
      "     ----------------------------- ---------- 30.3/41.2 MB 7.2 MB/s eta 0:00:02\n",
      "     ----------------------------- ---------- 30.8/41.2 MB 7.3 MB/s eta 0:00:02\n",
      "     ------------------------------ --------- 31.1/41.2 MB 7.3 MB/s eta 0:00:02\n",
      "     ------------------------------ --------- 31.5/41.2 MB 7.4 MB/s eta 0:00:02\n",
      "     ------------------------------ --------- 31.9/41.2 MB 7.6 MB/s eta 0:00:02\n",
      "     ------------------------------- -------- 32.3/41.2 MB 7.7 MB/s eta 0:00:02\n",
      "     ------------------------------- -------- 32.7/41.2 MB 7.9 MB/s eta 0:00:02\n",
      "     -------------------------------- ------- 33.1/41.2 MB 8.0 MB/s eta 0:00:02\n",
      "     -------------------------------- ------- 33.5/41.2 MB 8.0 MB/s eta 0:00:01\n",
      "     -------------------------------- ------- 33.9/41.2 MB 8.1 MB/s eta 0:00:01\n",
      "     --------------------------------- ------ 34.3/41.2 MB 8.2 MB/s eta 0:00:01\n",
      "     --------------------------------- ------ 34.6/41.2 MB 8.2 MB/s eta 0:00:01\n",
      "     --------------------------------- ------ 35.0/41.2 MB 8.2 MB/s eta 0:00:01\n",
      "     ---------------------------------- ----- 35.4/41.2 MB 8.2 MB/s eta 0:00:01\n",
      "     ---------------------------------- ----- 35.8/41.2 MB 8.2 MB/s eta 0:00:01\n",
      "     ----------------------------------- ---- 36.2/41.2 MB 8.3 MB/s eta 0:00:01\n",
      "     ----------------------------------- ---- 36.6/41.2 MB 8.2 MB/s eta 0:00:01\n",
      "     ----------------------------------- ---- 37.0/41.2 MB 8.3 MB/s eta 0:00:01\n",
      "     ------------------------------------ --- 37.4/41.2 MB 8.3 MB/s eta 0:00:01\n",
      "     ------------------------------------ --- 37.7/41.2 MB 8.3 MB/s eta 0:00:01\n",
      "     ------------------------------------- -- 38.1/41.2 MB 8.3 MB/s eta 0:00:01\n",
      "     ------------------------------------- -- 38.3/41.2 MB 8.1 MB/s eta 0:00:01\n",
      "     ------------------------------------- -- 38.4/41.2 MB 7.9 MB/s eta 0:00:01\n",
      "     ------------------------------------- -- 38.5/41.2 MB 7.7 MB/s eta 0:00:01\n",
      "     ------------------------------------- -- 38.7/41.2 MB 7.6 MB/s eta 0:00:01\n",
      "     ------------------------------------- -- 38.9/41.2 MB 7.4 MB/s eta 0:00:01\n",
      "     -------------------------------------- - 39.2/41.2 MB 7.4 MB/s eta 0:00:01\n",
      "     -------------------------------------- - 39.5/41.2 MB 7.4 MB/s eta 0:00:01\n",
      "     -------------------------------------- - 39.9/41.2 MB 7.4 MB/s eta 0:00:01\n",
      "     ---------------------------------------  40.3/41.2 MB 7.4 MB/s eta 0:00:01\n",
      "     ---------------------------------------  40.7/41.2 MB 7.4 MB/s eta 0:00:01\n",
      "     ---------------------------------------  41.1/41.2 MB 7.4 MB/s eta 0:00:01\n",
      "     ---------------------------------------  41.2/41.2 MB 7.4 MB/s eta 0:00:01\n",
      "     ---------------------------------------  41.2/41.2 MB 7.4 MB/s eta 0:00:01\n",
      "     ---------------------------------------  41.2/41.2 MB 7.4 MB/s eta 0:00:01\n",
      "     ---------------------------------------  41.2/41.2 MB 7.4 MB/s eta 0:00:01\n",
      "     ---------------------------------------  41.2/41.2 MB 7.4 MB/s eta 0:00:01\n",
      "     ---------------------------------------- 41.2/41.2 MB 6.0 MB/s eta 0:00:00\n",
      "Collecting threadpoolctl>=3.1.0\n",
      "  Downloading threadpoolctl-3.5.0-py3-none-any.whl (18 kB)\n",
      "Requirement already satisfied: joblib>=1.2.0 in c:\\users\\vinee\\appdata\\local\\programs\\python\\python310\\lib\\site-packages (from scikit-learn) (1.4.2)\n",
      "Requirement already satisfied: numpy>=1.19.5 in c:\\users\\vinee\\appdata\\local\\programs\\python\\python310\\lib\\site-packages (from scikit-learn) (2.2.3)\n",
      "Installing collected packages: threadpoolctl, scipy, scikit-learn\n",
      "Successfully installed scikit-learn-1.6.1 scipy-1.15.2 threadpoolctl-3.5.0\n"
     ]
    },
    {
     "name": "stderr",
     "output_type": "stream",
     "text": [
      "\n",
      "[notice] A new release of pip is available: 23.0.1 -> 25.0.1\n",
      "[notice] To update, run: python.exe -m pip install --upgrade pip\n"
     ]
    }
   ],
   "source": [
    "!pip install scikit-learn"
   ]
  },
  {
   "cell_type": "code",
   "execution_count": 18,
   "id": "4182ba6d-c361-456d-baa6-efb8d7b2ad90",
   "metadata": {},
   "outputs": [],
   "source": [
    "from sklearn.model_selection import train_test_split"
   ]
  },
  {
   "cell_type": "code",
   "execution_count": 19,
   "id": "2c230fd5-759b-4366-9a86-e26b75893010",
   "metadata": {},
   "outputs": [],
   "source": [
    "x_train , x_test , y_train , y_test = train_test_split(x,\n",
    "                                                      y,\n",
    "                                                      test_size = 0.2,\n",
    "                                                      random_state = 42)"
   ]
  },
  {
   "cell_type": "code",
   "execution_count": 34,
   "id": "4f17faa8-608c-49b3-aa20-d3c2b5ddda11",
   "metadata": {},
   "outputs": [
    {
     "name": "stdout",
     "output_type": "stream",
     "text": [
      "Total DataFrame Shape: (100, 6)\n",
      "---------------------------\n",
      "Input data (x) shape : (100, 5)\n",
      "x_train data shape : (80, 5)\n",
      "x_test data shave : (20, 5)\n",
      "---------------------------\n",
      "Target data (y) shape : (100,)\n",
      "y_train data shape : (80,)\n",
      "y_test data shape : (20,)\n"
     ]
    }
   ],
   "source": [
    "print(\"Total DataFrame Shape:\", df.shape)\n",
    "print(\"---------------------------\")\n",
    "print(\"Input data (x) shape :\", x.shape)\n",
    "print(\"x_train data shape :\", x_train.shape)\n",
    "print(\"x_test data shave :\", x_test.shape )\n",
    "print(\"---------------------------\")\n",
    "print(\"Target data (y) shape :\", y.shape)\n",
    "print(\"y_train data shape :\", y_train.shape)\n",
    "print(\"y_test data shape :\", y_test.shape )"
   ]
  },
  {
   "cell_type": "markdown",
   "id": "45f7d9c4-bcd9-4822-807d-8686eee2e199",
   "metadata": {},
   "source": [
    "# Data-2"
   ]
  },
  {
   "cell_type": "code",
   "execution_count": 21,
   "id": "2a0c07d8-18cd-40a5-8681-a90d078f5f65",
   "metadata": {},
   "outputs": [],
   "source": [
    "df = pd.read_csv(\"C:\\\\Pandas\\\\covid_toy.csv\")"
   ]
  },
  {
   "cell_type": "code",
   "execution_count": 22,
   "id": "710abf4a-7933-4f80-8cb5-956d64c6fedc",
   "metadata": {},
   "outputs": [
    {
     "data": {
      "text/html": [
       "<div>\n",
       "<style scoped>\n",
       "    .dataframe tbody tr th:only-of-type {\n",
       "        vertical-align: middle;\n",
       "    }\n",
       "\n",
       "    .dataframe tbody tr th {\n",
       "        vertical-align: top;\n",
       "    }\n",
       "\n",
       "    .dataframe thead th {\n",
       "        text-align: right;\n",
       "    }\n",
       "</style>\n",
       "<table border=\"1\" class=\"dataframe\">\n",
       "  <thead>\n",
       "    <tr style=\"text-align: right;\">\n",
       "      <th></th>\n",
       "      <th>age</th>\n",
       "      <th>gender</th>\n",
       "      <th>fever</th>\n",
       "      <th>cough</th>\n",
       "      <th>city</th>\n",
       "      <th>has_covid</th>\n",
       "    </tr>\n",
       "  </thead>\n",
       "  <tbody>\n",
       "    <tr>\n",
       "      <th>0</th>\n",
       "      <td>60</td>\n",
       "      <td>Male</td>\n",
       "      <td>103.0</td>\n",
       "      <td>Mild</td>\n",
       "      <td>Kolkata</td>\n",
       "      <td>No</td>\n",
       "    </tr>\n",
       "    <tr>\n",
       "      <th>1</th>\n",
       "      <td>27</td>\n",
       "      <td>Male</td>\n",
       "      <td>100.0</td>\n",
       "      <td>Mild</td>\n",
       "      <td>Delhi</td>\n",
       "      <td>Yes</td>\n",
       "    </tr>\n",
       "    <tr>\n",
       "      <th>2</th>\n",
       "      <td>42</td>\n",
       "      <td>Male</td>\n",
       "      <td>101.0</td>\n",
       "      <td>Mild</td>\n",
       "      <td>Delhi</td>\n",
       "      <td>No</td>\n",
       "    </tr>\n",
       "    <tr>\n",
       "      <th>3</th>\n",
       "      <td>31</td>\n",
       "      <td>Female</td>\n",
       "      <td>98.0</td>\n",
       "      <td>Mild</td>\n",
       "      <td>Kolkata</td>\n",
       "      <td>No</td>\n",
       "    </tr>\n",
       "    <tr>\n",
       "      <th>4</th>\n",
       "      <td>65</td>\n",
       "      <td>Female</td>\n",
       "      <td>101.0</td>\n",
       "      <td>Mild</td>\n",
       "      <td>Mumbai</td>\n",
       "      <td>No</td>\n",
       "    </tr>\n",
       "  </tbody>\n",
       "</table>\n",
       "</div>"
      ],
      "text/plain": [
       "   age  gender  fever cough     city has_covid\n",
       "0   60    Male  103.0  Mild  Kolkata        No\n",
       "1   27    Male  100.0  Mild    Delhi       Yes\n",
       "2   42    Male  101.0  Mild    Delhi        No\n",
       "3   31  Female   98.0  Mild  Kolkata        No\n",
       "4   65  Female  101.0  Mild   Mumbai        No"
      ]
     },
     "execution_count": 22,
     "metadata": {},
     "output_type": "execute_result"
    }
   ],
   "source": [
    "df.head()"
   ]
  },
  {
   "cell_type": "code",
   "execution_count": 23,
   "id": "9e79d0b5-836a-44b9-b6ef-9f3eccf00013",
   "metadata": {},
   "outputs": [
    {
     "data": {
      "text/plain": [
       "age           0\n",
       "gender        0\n",
       "fever        10\n",
       "cough         0\n",
       "city          0\n",
       "has_covid     0\n",
       "dtype: int64"
      ]
     },
     "execution_count": 23,
     "metadata": {},
     "output_type": "execute_result"
    }
   ],
   "source": [
    "df.isnull().sum()"
   ]
  },
  {
   "cell_type": "code",
   "execution_count": 24,
   "id": "5d471c38-1d7c-4c7c-b4e1-f0d9e5f7a706",
   "metadata": {},
   "outputs": [],
   "source": [
    "from sklearn.impute import SimpleImputer"
   ]
  },
  {
   "cell_type": "code",
   "execution_count": 25,
   "id": "d77bac03-f2aa-4fb3-8115-a30c4685964e",
   "metadata": {},
   "outputs": [],
   "source": [
    "si = SimpleImputer(strategy = 'mean')"
   ]
  },
  {
   "cell_type": "code",
   "execution_count": 26,
   "id": "ba97a721-bb35-4672-8199-b31995957bee",
   "metadata": {},
   "outputs": [],
   "source": [
    "df['fever'] = si.fit_transform(df[['fever']])"
   ]
  },
  {
   "cell_type": "code",
   "execution_count": 27,
   "id": "42c863e3-bc0c-44e5-8c98-56f679771a93",
   "metadata": {},
   "outputs": [
    {
     "data": {
      "text/plain": [
       "age          0\n",
       "gender       0\n",
       "fever        0\n",
       "cough        0\n",
       "city         0\n",
       "has_covid    0\n",
       "dtype: int64"
      ]
     },
     "execution_count": 27,
     "metadata": {},
     "output_type": "execute_result"
    }
   ],
   "source": [
    "df.isnull().sum()"
   ]
  },
  {
   "cell_type": "code",
   "execution_count": 28,
   "id": "2a05e588-6360-4ce0-8f49-05855976cc37",
   "metadata": {},
   "outputs": [
    {
     "data": {
      "text/html": [
       "<div>\n",
       "<style scoped>\n",
       "    .dataframe tbody tr th:only-of-type {\n",
       "        vertical-align: middle;\n",
       "    }\n",
       "\n",
       "    .dataframe tbody tr th {\n",
       "        vertical-align: top;\n",
       "    }\n",
       "\n",
       "    .dataframe thead th {\n",
       "        text-align: right;\n",
       "    }\n",
       "</style>\n",
       "<table border=\"1\" class=\"dataframe\">\n",
       "  <thead>\n",
       "    <tr style=\"text-align: right;\">\n",
       "      <th></th>\n",
       "      <th>age</th>\n",
       "      <th>gender</th>\n",
       "      <th>fever</th>\n",
       "      <th>cough</th>\n",
       "      <th>city</th>\n",
       "      <th>has_covid</th>\n",
       "    </tr>\n",
       "  </thead>\n",
       "  <tbody>\n",
       "    <tr>\n",
       "      <th>0</th>\n",
       "      <td>60</td>\n",
       "      <td>Male</td>\n",
       "      <td>103.0</td>\n",
       "      <td>Mild</td>\n",
       "      <td>Kolkata</td>\n",
       "      <td>No</td>\n",
       "    </tr>\n",
       "    <tr>\n",
       "      <th>1</th>\n",
       "      <td>27</td>\n",
       "      <td>Male</td>\n",
       "      <td>100.0</td>\n",
       "      <td>Mild</td>\n",
       "      <td>Delhi</td>\n",
       "      <td>Yes</td>\n",
       "    </tr>\n",
       "    <tr>\n",
       "      <th>2</th>\n",
       "      <td>42</td>\n",
       "      <td>Male</td>\n",
       "      <td>101.0</td>\n",
       "      <td>Mild</td>\n",
       "      <td>Delhi</td>\n",
       "      <td>No</td>\n",
       "    </tr>\n",
       "  </tbody>\n",
       "</table>\n",
       "</div>"
      ],
      "text/plain": [
       "   age gender  fever cough     city has_covid\n",
       "0   60   Male  103.0  Mild  Kolkata        No\n",
       "1   27   Male  100.0  Mild    Delhi       Yes\n",
       "2   42   Male  101.0  Mild    Delhi        No"
      ]
     },
     "execution_count": 28,
     "metadata": {},
     "output_type": "execute_result"
    }
   ],
   "source": [
    "df.head(3)"
   ]
  },
  {
   "cell_type": "code",
   "execution_count": 29,
   "id": "c1a3829a-1e70-4eb4-b453-4e42c021c480",
   "metadata": {},
   "outputs": [
    {
     "data": {
      "text/plain": [
       "(100, 6)"
      ]
     },
     "execution_count": 29,
     "metadata": {},
     "output_type": "execute_result"
    }
   ],
   "source": [
    "df.shape"
   ]
  },
  {
   "cell_type": "code",
   "execution_count": 30,
   "id": "6d5c29f7-a901-484f-a311-979e7be0984d",
   "metadata": {},
   "outputs": [],
   "source": [
    "x = df.drop(columns = ['has_covid'])\n",
    "y = df['has_covid']"
   ]
  },
  {
   "cell_type": "code",
   "execution_count": 31,
   "id": "1498abf4-fdef-4510-9db6-ea9090c9b664",
   "metadata": {},
   "outputs": [],
   "source": [
    "from sklearn.model_selection import train_test_split"
   ]
  },
  {
   "cell_type": "code",
   "execution_count": 33,
   "id": "ca9fb888-142b-4cf3-a022-1a0bd8b07733",
   "metadata": {},
   "outputs": [],
   "source": [
    "x_train , x_test , y_train , y_test = train_test_split(x,y,test_size = 0.2,\n",
    "                                                      random_state = 42)"
   ]
  },
  {
   "cell_type": "code",
   "execution_count": 36,
   "id": "9cc07d62-ec98-4261-9baa-f42f21143c15",
   "metadata": {},
   "outputs": [
    {
     "name": "stdout",
     "output_type": "stream",
     "text": [
      "Total DataFrame Shape: (100, 6)\n",
      "---------------------------\n",
      "Input data (x) shape : (100, 5)\n",
      "x_train data shape : (80, 5)\n",
      "x_test data shave : (20, 5)\n",
      "---------------------------\n",
      "Target data (y) shape : (100,)\n",
      "y_train data shape : (80,)\n",
      "y_test data shape : (20,)\n"
     ]
    }
   ],
   "source": [
    "print(\"Total DataFrame Shape:\", df.shape)\n",
    "print(\"---------------------------\")\n",
    "print(\"Input data (x) shape :\", x.shape)\n",
    "print(\"x_train data shape :\", x_train.shape)\n",
    "print(\"x_test data shave :\", x_test.shape )\n",
    "print(\"---------------------------\")\n",
    "print(\"Target data (y) shape :\", y.shape)\n",
    "print(\"y_train data shape :\", y_train.shape)\n",
    "print(\"y_test data shape :\", y_test.shape )"
   ]
  },
  {
   "cell_type": "markdown",
   "id": "9976297c-d38d-4eb2-98f5-6ea9e8c09f10",
   "metadata": {},
   "source": [
    "# Data-3"
   ]
  },
  {
   "cell_type": "code",
   "execution_count": 37,
   "id": "4472bc45-f04f-4db0-bf53-28791aeed734",
   "metadata": {},
   "outputs": [],
   "source": [
    "df = pd.read_csv(\"C:\\\\Pandas\\\\tips.csv\")"
   ]
  },
  {
   "cell_type": "code",
   "execution_count": 38,
   "id": "698076d1-78af-4503-b13c-850625e8afcf",
   "metadata": {},
   "outputs": [
    {
     "data": {
      "text/html": [
       "<div>\n",
       "<style scoped>\n",
       "    .dataframe tbody tr th:only-of-type {\n",
       "        vertical-align: middle;\n",
       "    }\n",
       "\n",
       "    .dataframe tbody tr th {\n",
       "        vertical-align: top;\n",
       "    }\n",
       "\n",
       "    .dataframe thead th {\n",
       "        text-align: right;\n",
       "    }\n",
       "</style>\n",
       "<table border=\"1\" class=\"dataframe\">\n",
       "  <thead>\n",
       "    <tr style=\"text-align: right;\">\n",
       "      <th></th>\n",
       "      <th>total_bill</th>\n",
       "      <th>tip</th>\n",
       "      <th>sex</th>\n",
       "      <th>smoker</th>\n",
       "      <th>day</th>\n",
       "      <th>time</th>\n",
       "      <th>size</th>\n",
       "    </tr>\n",
       "  </thead>\n",
       "  <tbody>\n",
       "    <tr>\n",
       "      <th>0</th>\n",
       "      <td>16.99</td>\n",
       "      <td>1.01</td>\n",
       "      <td>Female</td>\n",
       "      <td>No</td>\n",
       "      <td>Sun</td>\n",
       "      <td>Dinner</td>\n",
       "      <td>2</td>\n",
       "    </tr>\n",
       "    <tr>\n",
       "      <th>1</th>\n",
       "      <td>10.34</td>\n",
       "      <td>1.66</td>\n",
       "      <td>Male</td>\n",
       "      <td>No</td>\n",
       "      <td>Sun</td>\n",
       "      <td>Dinner</td>\n",
       "      <td>3</td>\n",
       "    </tr>\n",
       "    <tr>\n",
       "      <th>2</th>\n",
       "      <td>21.01</td>\n",
       "      <td>3.50</td>\n",
       "      <td>Male</td>\n",
       "      <td>No</td>\n",
       "      <td>Sun</td>\n",
       "      <td>Dinner</td>\n",
       "      <td>3</td>\n",
       "    </tr>\n",
       "    <tr>\n",
       "      <th>3</th>\n",
       "      <td>23.68</td>\n",
       "      <td>3.31</td>\n",
       "      <td>Male</td>\n",
       "      <td>No</td>\n",
       "      <td>Sun</td>\n",
       "      <td>Dinner</td>\n",
       "      <td>2</td>\n",
       "    </tr>\n",
       "    <tr>\n",
       "      <th>4</th>\n",
       "      <td>24.59</td>\n",
       "      <td>3.61</td>\n",
       "      <td>Female</td>\n",
       "      <td>No</td>\n",
       "      <td>Sun</td>\n",
       "      <td>Dinner</td>\n",
       "      <td>4</td>\n",
       "    </tr>\n",
       "  </tbody>\n",
       "</table>\n",
       "</div>"
      ],
      "text/plain": [
       "   total_bill   tip     sex smoker  day    time  size\n",
       "0       16.99  1.01  Female     No  Sun  Dinner     2\n",
       "1       10.34  1.66    Male     No  Sun  Dinner     3\n",
       "2       21.01  3.50    Male     No  Sun  Dinner     3\n",
       "3       23.68  3.31    Male     No  Sun  Dinner     2\n",
       "4       24.59  3.61  Female     No  Sun  Dinner     4"
      ]
     },
     "execution_count": 38,
     "metadata": {},
     "output_type": "execute_result"
    }
   ],
   "source": [
    "df.head()"
   ]
  },
  {
   "cell_type": "code",
   "execution_count": 39,
   "id": "3a5147a0-5e91-4bae-9e3e-d7e2aa857683",
   "metadata": {},
   "outputs": [
    {
     "data": {
      "text/plain": [
       "total_bill    0\n",
       "tip           0\n",
       "sex           0\n",
       "smoker        0\n",
       "day           0\n",
       "time          0\n",
       "size          0\n",
       "dtype: int64"
      ]
     },
     "execution_count": 39,
     "metadata": {},
     "output_type": "execute_result"
    }
   ],
   "source": [
    "df.isnull().sum()"
   ]
  },
  {
   "cell_type": "code",
   "execution_count": 41,
   "id": "09e2d35d-3f74-464e-9c73-287a7cd1b275",
   "metadata": {},
   "outputs": [
    {
     "data": {
      "text/plain": [
       "(244, 7)"
      ]
     },
     "execution_count": 41,
     "metadata": {},
     "output_type": "execute_result"
    }
   ],
   "source": [
    "df.shape"
   ]
  },
  {
   "cell_type": "code",
   "execution_count": 42,
   "id": "f40a1562-2278-4ed0-8c15-b038e58369ae",
   "metadata": {},
   "outputs": [],
   "source": [
    "x = df.drop(columns = ['tip'])\n",
    "y = df['tip']"
   ]
  },
  {
   "cell_type": "code",
   "execution_count": 43,
   "id": "4fa76b7f-48c6-45ff-ab8e-c4b3a62bd1d2",
   "metadata": {},
   "outputs": [],
   "source": [
    "from sklearn.model_selection import train_test_split"
   ]
  },
  {
   "cell_type": "code",
   "execution_count": 44,
   "id": "8c4ba066-0abc-452b-af03-1d627a384315",
   "metadata": {},
   "outputs": [],
   "source": [
    "x_train , x_test , y_train , y_test = train_test_split(x,y,test_size = 0.2,\n",
    "                                                      random_state = 42)"
   ]
  },
  {
   "cell_type": "code",
   "execution_count": 45,
   "id": "98a808ea-3fd6-4203-a3cd-a45a1ee543de",
   "metadata": {},
   "outputs": [
    {
     "name": "stdout",
     "output_type": "stream",
     "text": [
      "Total DataFrame Shape: (244, 7)\n",
      "---------------------------\n",
      "Input data (x) shape : (244, 6)\n",
      "x_train data shape : (195, 6)\n",
      "x_test data shave : (49, 6)\n",
      "---------------------------\n",
      "Target data (y) shape : (244,)\n",
      "y_train data shape : (195,)\n",
      "y_test data shape : (49,)\n"
     ]
    }
   ],
   "source": [
    "print(\"Total DataFrame Shape:\", df.shape)\n",
    "print(\"---------------------------\")\n",
    "print(\"Input data (x) shape :\", x.shape)\n",
    "print(\"x_train data shape :\", x_train.shape)\n",
    "print(\"x_test data shave :\", x_test.shape )\n",
    "print(\"---------------------------\")\n",
    "print(\"Target data (y) shape :\", y.shape)\n",
    "print(\"y_train data shape :\", y_train.shape)\n",
    "print(\"y_test data shape :\", y_test.shape )"
   ]
  },
  {
   "cell_type": "code",
   "execution_count": null,
   "id": "75916ba9-d06a-4470-b4e5-6d740980e1fe",
   "metadata": {},
   "outputs": [],
   "source": []
  }
 ],
 "metadata": {
  "kernelspec": {
   "display_name": "Python 3 (ipykernel)",
   "language": "python",
   "name": "python3"
  },
  "language_info": {
   "codemirror_mode": {
    "name": "ipython",
    "version": 3
   },
   "file_extension": ".py",
   "mimetype": "text/x-python",
   "name": "python",
   "nbconvert_exporter": "python",
   "pygments_lexer": "ipython3",
   "version": "3.10.11"
  }
 },
 "nbformat": 4,
 "nbformat_minor": 5
}
